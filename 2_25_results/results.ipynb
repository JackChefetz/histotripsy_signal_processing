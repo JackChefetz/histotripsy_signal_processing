{
 "cells": [
  {
   "cell_type": "code",
   "execution_count": 1,
   "metadata": {},
   "outputs": [],
   "source": [
    "import matplotlib.pyplot as plt\n",
    "import seaborn as sns\n",
    "import pandas as pd\n",
    "from collections import Counter\n",
    "import numpy as np"
   ]
  },
  {
   "cell_type": "code",
   "execution_count": null,
   "metadata": {},
   "outputs": [],
   "source": [
    "from water150ttp import values\n",
    "\n",
    "num_values = []\n",
    "for v in values:\n",
    "    try:\n",
    "        num_values.append(float(v))\n",
    "    except ValueError:\n",
    "        continue\n",
    "\n",
    "plt.figure(figsize=(10, 6))\n",
    "sns.histplot(num_values, kde=True)\n",
    "plt.title(\"distribution of ttp predictions (for 0.5 intensity) in water at 150V\")\n",
    "plt.xlabel(\"ttp\")\n",
    "plt.ylabel(\"Frequency\")\n",
    "plt.show()\n"
   ]
  },
  {
   "cell_type": "code",
   "execution_count": null,
   "metadata": {},
   "outputs": [],
   "source": [
    "from water150ttp import values\n",
    "\n",
    "total = len(values)\n",
    "good_prediction_count = 0\n",
    "error_counter = Counter()\n",
    "\n",
    "for v in values:\n",
    "    try:\n",
    "        float(v)\n",
    "        good_prediction_count += 1\n",
    "    except ValueError:\n",
    "        error_counter[v] += 1\n",
    "\n",
    "table_data = [{'Text': text, 'Percent': (count / total) * 100} for text, count in error_counter.items()]\n",
    "table_data.append({'Text': 'good prediction', 'Percent': (good_prediction_count / total) * 100})\n",
    "\n",
    "print(\"Summary of errors for water at 150V\")\n",
    "df = pd.DataFrame(table_data)\n",
    "print(df)"
   ]
  },
  {
   "cell_type": "code",
   "execution_count": null,
   "metadata": {},
   "outputs": [],
   "source": [
    "from water0 import values\n",
    "\n",
    "total = len(values)\n",
    "good_prediction_count = 0\n",
    "error_counter = Counter()\n",
    "\n",
    "for v in values:\n",
    "    try:\n",
    "        float(v)\n",
    "        good_prediction_count += 1\n",
    "    except ValueError:\n",
    "        error_counter[v] += 1\n",
    "\n",
    "table_data = [{'Text': text, 'Percent': (count / total) * 100} for text, count in error_counter.items()]\n",
    "table_data.append({'Text': 'good prediction', 'Percent': (good_prediction_count / total) * 100})\n",
    "\n",
    "df = pd.DataFrame(table_data)\n",
    "print(\"Summary of errors for water at 0V\")\n",
    "print(\"Water at 0V:\")\n",
    "print(df)\n",
    "print(\"Note: poor fit here was R^2 worse than 0.01\")"
   ]
  },
  {
   "cell_type": "code",
   "execution_count": null,
   "metadata": {},
   "outputs": [],
   "source": [
    "from gel150ttp import values\n",
    "\n",
    "num_values = []\n",
    "for v in values:\n",
    "    try:\n",
    "        num_values.append(float(v))\n",
    "    except ValueError:\n",
    "        continue\n",
    "\n",
    "plt.figure(figsize=(10, 6))\n",
    "sns.histplot(num_values, kde=True)\n",
    "plt.title(\"distribution of ttp predictions (for 0.5 intensity) in gel at 150V\")\n",
    "plt.xlabel(\"ttp\")\n",
    "plt.ylabel(\"Frequency\")\n",
    "plt.show()"
   ]
  },
  {
   "cell_type": "code",
   "execution_count": null,
   "metadata": {},
   "outputs": [],
   "source": [
    "from gel150ttp import values\n",
    "\n",
    "total = len(values)\n",
    "good_prediction_count = 0\n",
    "error_counter = Counter()\n",
    "\n",
    "for v in values:\n",
    "    try:\n",
    "        float(v)\n",
    "        good_prediction_count += 1\n",
    "    except ValueError:\n",
    "        error_counter[v] += 1\n",
    "\n",
    "table_data = [{'Text': text, 'Percent': (count / total) * 100} for text, count in error_counter.items()]\n",
    "table_data.append({'Text': 'good prediction', 'Percent': (good_prediction_count / total) * 100})\n",
    "\n",
    "df = pd.DataFrame(table_data)\n",
    "\n",
    "print(\"Summary of errors for gel at 150V\")\n",
    "print(df)"
   ]
  },
  {
   "cell_type": "code",
   "execution_count": null,
   "metadata": {},
   "outputs": [],
   "source": [
    "from gel0int import ttp\n",
    "\n",
    "x = list(range(1, 11))\n",
    "\n",
    "plt.figure(figsize=(8, 6))\n",
    "plt.scatter(x, ttp, marker='o')\n",
    "plt.xlabel(\"time (ms)\")\n",
    "plt.ylabel(\"Integrated Signal\")\n",
    "plt.title(\"Gel, 0V, 1 sample\")\n",
    "plt.show()"
   ]
  },
  {
   "cell_type": "code",
   "execution_count": null,
   "metadata": {},
   "outputs": [],
   "source": [
    "from gel150Aint import powerlaw_fits\n",
    "\n",
    "plt.figure(figsize=(8, 6))\n",
    "x = np.linspace(1, 10, 1000)\n",
    "\n",
    "for i in range(1, 12):\n",
    "    a, b = powerlaw_fits[f\"IntSig{i}\"]\n",
    "    fit_curve = a * (x ** b)\n",
    "    plt.plot(x, fit_curve, '-', linewidth=2)\n",
    "\n",
    "plt.xlabel(\"time (ms)\")\n",
    "plt.ylabel(\"Integrated Signal\")\n",
    "plt.title(\"Gel, 150V, power law fits of 11 samples\")\n",
    "plt.show()\n"
   ]
  },
  {
   "cell_type": "code",
   "execution_count": null,
   "metadata": {},
   "outputs": [],
   "source": [
    "from gel150Bint import powerlaw_fits\n",
    "\n",
    "plt.figure(figsize=(8, 6))\n",
    "x = np.linspace(1, 10, 1000)\n",
    "\n",
    "for i in range(1, 12):\n",
    "    a, b = powerlaw_fits[f\"IntSig{i}\"]\n",
    "    fit_curve = a * (x ** b)\n",
    "    plt.plot(x, fit_curve, '-', linewidth=2)\n",
    "\n",
    "plt.xlabel(\"time (ms)\")\n",
    "plt.ylabel(\"Integrated Signal\")\n",
    "plt.title(\"Gel, 150V, power law fits of 23 samples from new spot on gel\")\n",
    "plt.show()"
   ]
  },
  {
   "cell_type": "code",
   "execution_count": null,
   "metadata": {},
   "outputs": [],
   "source": []
  }
 ],
 "metadata": {
  "kernelspec": {
   "display_name": "base",
   "language": "python",
   "name": "python3"
  },
  "language_info": {
   "codemirror_mode": {
    "name": "ipython",
    "version": 3
   },
   "file_extension": ".py",
   "mimetype": "text/x-python",
   "name": "python",
   "nbconvert_exporter": "python",
   "pygments_lexer": "ipython3",
   "version": "3.12.2"
  }
 },
 "nbformat": 4,
 "nbformat_minor": 2
}
